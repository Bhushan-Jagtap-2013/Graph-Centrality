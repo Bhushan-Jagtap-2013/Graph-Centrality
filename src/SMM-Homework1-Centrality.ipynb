{
 "cells": [
  {
   "cell_type": "code",
   "execution_count": 1,
   "metadata": {
    "collapsed": true
   },
   "outputs": [],
   "source": [
    "import networkx as nx\n",
    "import numpy as np\n",
    "import matplotlib.pyplot as plt\n",
    "import matplotlib.pyplot as plt\n",
    "from itertools import count"
   ]
  },
  {
   "cell_type": "markdown",
   "metadata": {},
   "source": [
    "## Input adjacency matrix"
   ]
  },
  {
   "cell_type": "code",
   "execution_count": 2,
   "metadata": {
    "collapsed": true
   },
   "outputs": [],
   "source": [
    "A = np.array([[0,1,1,1,0,0,0,0,0],[1,0,1,0,0,0,0,0,0],[1,1,0,1,0,0,0,0,0],[1,0,1,0,1,1,0,0,0],[0,0,0,1,0,1,1,1,0],\n",
    "             [0,0,0,1,1,0,1,1,0],[0,0,0,0,1,1,0,1,1],[0,0,0,0,1,1,1,0,0],[0,0,0,0,0,0,1,0,0]])"
   ]
  },
  {
   "cell_type": "code",
   "execution_count": 3,
   "metadata": {
    "collapsed": true
   },
   "outputs": [],
   "source": [
    "H = nx.from_numpy_matrix(A)"
   ]
  },
  {
   "cell_type": "markdown",
   "metadata": {},
   "source": [
    "## Question 1 : Centrality\n",
    "\n",
    "#### Implement degree, closeness, betweenness and eigenvector centrality in python. Your functions should take as input an adjacency matrix and return a list or vector of centrality values. You may focus on just undirected graphs. Do not simply invoke NetworkX functions."
   ]
  },
  {
   "cell_type": "markdown",
   "metadata": {},
   "source": [
    "## 1. Degree Centrality"
   ]
  },
  {
   "cell_type": "code",
   "execution_count": 4,
   "metadata": {
    "collapsed": true
   },
   "outputs": [],
   "source": [
    "def D_centrality(A):\n",
    "    Cd = np.sum(A, axis=1)\n",
    "    Cd = Cd /(len(A) - 1)\n",
    "    return list(Cd)"
   ]
  },
  {
   "cell_type": "markdown",
   "metadata": {},
   "source": [
    "## Test :"
   ]
  },
  {
   "cell_type": "code",
   "execution_count": 5,
   "metadata": {},
   "outputs": [
    {
     "data": {
      "text/plain": [
       "[0.375, 0.25, 0.375, 0.5, 0.5, 0.5, 0.5, 0.375, 0.125]"
      ]
     },
     "execution_count": 5,
     "metadata": {},
     "output_type": "execute_result"
    }
   ],
   "source": [
    "D_centrality(A)"
   ]
  },
  {
   "cell_type": "code",
   "execution_count": 6,
   "metadata": {},
   "outputs": [
    {
     "data": {
      "text/plain": [
       "[0.375, 0.25, 0.375, 0.5, 0.5, 0.5, 0.5, 0.375, 0.125]"
      ]
     },
     "execution_count": 6,
     "metadata": {},
     "output_type": "execute_result"
    }
   ],
   "source": [
    "list(nx.degree_centrality (H).values())"
   ]
  },
  {
   "cell_type": "markdown",
   "metadata": {},
   "source": [
    "## 2. Closeness Centrality"
   ]
  },
  {
   "cell_type": "code",
   "execution_count": 7,
   "metadata": {
    "collapsed": true
   },
   "outputs": [],
   "source": [
    "def C_centrality(A):\n",
    "    number_of_nodes = len(A)\n",
    "    shortest_path = np.zeros((number_of_nodes , number_of_nodes))\n",
    "\n",
    "    # largest path will be total number of nodes if all nodes are in straint line\n",
    "\n",
    "    A_powers = [np.linalg.matrix_power(A,m) for m in range(1, number_of_nodes + 1)]\n",
    "    min_lengths = np.zeros((number_of_nodes,number_of_nodes))\n",
    "    for i in range(number_of_nodes):\n",
    "        for j in range(number_of_nodes):\n",
    "            for x in range(number_of_nodes):\n",
    "                X = A_powers[x].copy()\n",
    "                if X[i,j] > 0 and i != j:\n",
    "                    shortest_path[i,j] = x + 1\n",
    "                    break\n",
    "\n",
    "    Cc = np.sum(shortest_path, axis=1)\n",
    "    Cc = (number_of_nodes - 1) / Cc\n",
    "    return list(Cc)"
   ]
  },
  {
   "cell_type": "markdown",
   "metadata": {},
   "source": [
    "## Test"
   ]
  },
  {
   "cell_type": "code",
   "execution_count": 8,
   "metadata": {},
   "outputs": [
    {
     "data": {
      "text/plain": [
       "[0.47058823529411764,\n",
       " 0.34782608695652173,\n",
       " 0.47058823529411764,\n",
       " 0.61538461538461542,\n",
       " 0.61538461538461542,\n",
       " 0.61538461538461542,\n",
       " 0.5,\n",
       " 0.47058823529411764,\n",
       " 0.34782608695652173]"
      ]
     },
     "execution_count": 8,
     "metadata": {},
     "output_type": "execute_result"
    }
   ],
   "source": [
    "C_centrality(A)"
   ]
  },
  {
   "cell_type": "code",
   "execution_count": 9,
   "metadata": {},
   "outputs": [
    {
     "data": {
      "text/plain": [
       "[0.47058823529411764,\n",
       " 0.34782608695652173,\n",
       " 0.47058823529411764,\n",
       " 0.6153846153846154,\n",
       " 0.6153846153846154,\n",
       " 0.6153846153846154,\n",
       " 0.5,\n",
       " 0.47058823529411764,\n",
       " 0.34782608695652173]"
      ]
     },
     "execution_count": 9,
     "metadata": {},
     "output_type": "execute_result"
    }
   ],
   "source": [
    "list(nx.closeness_centrality (H).values())"
   ]
  },
  {
   "cell_type": "markdown",
   "metadata": {},
   "source": [
    "## 3. Betweenness Centrality"
   ]
  },
  {
   "cell_type": "code",
   "execution_count": 10,
   "metadata": {
    "collapsed": true
   },
   "outputs": [],
   "source": [
    "def sigma_through_jay(A, j, min_lengths, sigma):\n",
    "    node_count = len(A)\n",
    "    # Number of shortest paths through node j\n",
    "    B = A.copy()\n",
    "    B[j] = np.zeros(node_count)\n",
    "    B[:,j] = np.zeros(node_count)\n",
    "    B_powers = [np.linalg.matrix_power(B,m) for m in range(1, node_count + 1)]\n",
    "    B_sigma = np.zeros((node_count, node_count))\n",
    "    B_min_lengths = np.zeros((node_count, node_count))\n",
    "    for i in range(node_count):\n",
    "        for k in range(node_count):\n",
    "            if i != k:\n",
    "                X = B_powers[int(min_lengths[i,k]-1)]\n",
    "                B_sigma[i,k] = X[i,k]\n",
    "    return (sigma - B_sigma)   "
   ]
  },
  {
   "cell_type": "code",
   "execution_count": 11,
   "metadata": {
    "collapsed": true
   },
   "outputs": [],
   "source": [
    "def betweenness(A, j, min_lengths, sigma):\n",
    "    # Finally, the betweenness\n",
    "    node_count = len(A)\n",
    "    sigst = sigma_through_jay(A,j, min_lengths, sigma)\n",
    "    total = 0\n",
    "    for i in range(node_count):\n",
    "        for k in range(i):\n",
    "            if i != j and k != j:\n",
    "                total += sigst[i,k] / sigma[i,k]\n",
    "    # We return a single number.\n",
    "    return total"
   ]
  },
  {
   "cell_type": "code",
   "execution_count": 12,
   "metadata": {
    "collapsed": true
   },
   "outputs": [],
   "source": [
    "def B_centrality(A):\n",
    "    node_count = len(A)\n",
    "    A_powers = [np.linalg.matrix_power(A,m) for m in range(1, node_count + 1)]\n",
    "    sigma = np.zeros((node_count, node_count)) #np.zeros((number_of_nodes , number_of_nodes))\n",
    "    min_lengths = np.zeros((node_count,node_count))\n",
    "    for i in range(node_count):\n",
    "        for j in range(node_count):\n",
    "            for x in range(node_count):\n",
    "                X = A_powers[x].copy()\n",
    "                if X[i,j] > 0 and i != j:\n",
    "                    sigma[i,j] = X[i,j]\n",
    "                    min_lengths[i,j] = x + 1\n",
    "                    break\n",
    "    btwn_values = [betweenness(A, x, min_lengths, sigma) for x in range(9)]\n",
    "    return btwn_values"
   ]
  },
  {
   "cell_type": "markdown",
   "metadata": {},
   "source": [
    "## Test"
   ]
  },
  {
   "cell_type": "code",
   "execution_count": 13,
   "metadata": {},
   "outputs": [
    {
     "data": {
      "text/plain": [
       "[3.0, 0.0, 3.0, 15.0, 6.0, 6.0, 7.0, 0.0, 0.0]"
      ]
     },
     "execution_count": 13,
     "metadata": {},
     "output_type": "execute_result"
    }
   ],
   "source": [
    "B_centrality(A)"
   ]
  },
  {
   "cell_type": "code",
   "execution_count": 14,
   "metadata": {},
   "outputs": [
    {
     "data": {
      "text/plain": [
       "[3.0, 0.0, 3.0, 15.0, 6.0, 6.0, 7.0, 0.0, 0.0]"
      ]
     },
     "execution_count": 14,
     "metadata": {},
     "output_type": "execute_result"
    }
   ],
   "source": [
    "list(nx.betweenness_centrality(H, normalized=False).values())"
   ]
  },
  {
   "cell_type": "markdown",
   "metadata": {},
   "source": [
    "## 4. Eigenvector Centrality"
   ]
  },
  {
   "cell_type": "code",
   "execution_count": 15,
   "metadata": {
    "collapsed": true
   },
   "outputs": [],
   "source": [
    "def E_centrality(M):\n",
    "    w,v= np.linalg.eig(M)\n",
    "    Ec = []\n",
    "    for i in v:\n",
    "        Ec.append(i[np.argmax(w)])\n",
    "    return Ec"
   ]
  },
  {
   "cell_type": "markdown",
   "metadata": {},
   "source": [
    "## Test"
   ]
  },
  {
   "cell_type": "code",
   "execution_count": 16,
   "metadata": {},
   "outputs": [
    {
     "data": {
      "text/plain": [
       "[0.19574879570918419,\n",
       " 0.1116837032398663,\n",
       " 0.19574879570918396,\n",
       " 0.37874802533567853,\n",
       " 0.46808547631042252,\n",
       " 0.46808547631042252,\n",
       " 0.40997938953295338,\n",
       " 0.3840203838411051,\n",
       " 0.11695606174529273]"
      ]
     },
     "execution_count": 16,
     "metadata": {},
     "output_type": "execute_result"
    }
   ],
   "source": [
    "E_centrality(A)"
   ]
  },
  {
   "cell_type": "code",
   "execution_count": 17,
   "metadata": {},
   "outputs": [
    {
     "data": {
      "text/plain": [
       "[0.1957540414970864,\n",
       " 0.1116880543296416,\n",
       " 0.19575404149708636,\n",
       " 0.378751077373384,\n",
       " 0.4680839101306905,\n",
       " 0.4680839101306905,\n",
       " 0.4099765880693859,\n",
       " 0.3840179229632457,\n",
       " 0.11695489991950335]"
      ]
     },
     "execution_count": 17,
     "metadata": {},
     "output_type": "execute_result"
    }
   ],
   "source": [
    "list(nx.eigenvector_centrality(H).values())"
   ]
  },
  {
   "cell_type": "markdown",
   "metadata": {},
   "source": [
    "## Question 2 : Plot Graph\n",
    "#### Create a function that takes as input an adjacency matrix and plots in the notebook a depiction of the associated graph with eigenvector centrality represented by node size. Nodes should be represented as circles. In other words, learn how to produce diagrams like this one:\n",
    "\n",
    "<img src=\"https://upload.wikimedia.org/wikipedia/en/8/8b/PageRanks-Example.jpg\" style=\"width: 300px;\"/>"
   ]
  },
  {
   "cell_type": "code",
   "execution_count": 18,
   "metadata": {
    "collapsed": true
   },
   "outputs": [],
   "source": [
    "def generate_graph(A):\n",
    "\n",
    "    G = nx.from_numpy_matrix(A)\n",
    "    ev = list(nx.eigenvector_centrality(G).values())\n",
    "\n",
    "    # calculate node labels\n",
    "    node_labels = [\"%d\\n%.3f\" % (i, ev[i]) for i in range(len(A))]\n",
    "    nodes = [i for i in range(len(A))]\n",
    "\n",
    "    # calculate node sizes\n",
    "    groups = set(ev)\n",
    "    mapping = dict(zip(sorted(groups),count()))\n",
    "    node_sizes = [(mapping[ev[n]] + 1) * 200 for n in nodes]\n",
    "\n",
    "    # calculate color values\n",
    "    groups = set(ev)\n",
    "    mapping = dict(zip(sorted(groups),count()))\n",
    "    colors = [mapping[ev[n]] for n in nodes]\n",
    "\n",
    "    # draw graph\n",
    "    pos=nx.circular_layout(G)\n",
    "    pos = nx.spring_layout(G, scale=2, k = 1.5, pos = pos, iterations=20)\n",
    "    nx.draw(G, pos)\n",
    "    nx.draw_networkx_labels(G, pos, labels = dict(zip(nodes, node_labels)))\n",
    "    nc = nx.draw_networkx_nodes(G, pos, node_size = node_sizes, node_color=colors, cmap=plt.cm.jet)\n",
    "\n",
    "    plt.show()"
   ]
  },
  {
   "cell_type": "code",
   "execution_count": 19,
   "metadata": {},
   "outputs": [
    {
     "data": {
      "image/png": "[encoded data removed]",
      "text/plain": [
       "<matplotlib.figure.Figure at 0x1875f1f0240>"
      ]
     },
     "metadata": {},
     "output_type": "display_data"
    }
   ],
   "source": [
    "generate_graph(A)"
   ]
  }
 ],
 "metadata": {
  "kernelspec": {
   "display_name": "Python 3",
   "language": "python",
   "name": "python3"
  },
  "language_info": {
   "codemirror_mode": {
    "name": "ipython",
    "version": 3
   },
   "file_extension": ".py",
   "mimetype": "text/x-python",
   "name": "python",
   "nbconvert_exporter": "python",
   "pygments_lexer": "ipython3",
   "version": "3.6.3"
  }
 },
 "nbformat": 4,
 "nbformat_minor": 2
}
